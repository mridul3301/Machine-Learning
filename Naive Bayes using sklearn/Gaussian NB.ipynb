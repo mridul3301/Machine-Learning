{
 "cells": [
  {
   "cell_type": "raw",
   "id": "ad5239b7",
   "metadata": {},
   "source": [
    "https://scikit-learn.org/stable/modules/generated/sklearn.naive_bayes.GaussianNB.html"
   ]
  },
  {
   "cell_type": "code",
   "execution_count": 1,
   "id": "63a617da",
   "metadata": {},
   "outputs": [],
   "source": [
    "import numpy as np\n",
    "X = np.array([[-1, -1], [-2, -1], [-3, -2], [1, 1], [2, 1], [3, 2]])\n",
    "Y = np.array([1, 1, 1, 2, 2, 2])"
   ]
  },
  {
   "cell_type": "markdown",
   "id": "8744adbe",
   "metadata": {},
   "source": [
    "X is input and Y is the corresponding output.\n",
    "\n",
    "Import **GaussianNB** from **sklearn.naive_bayes**"
   ]
  },
  {
   "cell_type": "code",
   "execution_count": 2,
   "id": "adc9fa05",
   "metadata": {},
   "outputs": [],
   "source": [
    "from sklearn.naive_bayes import GaussianNB"
   ]
  },
  {
   "cell_type": "markdown",
   "id": "b5f2e1ac",
   "metadata": {},
   "source": [
    "Create a classifier as below:"
   ]
  },
  {
   "cell_type": "code",
   "execution_count": 3,
   "id": "9552b89a",
   "metadata": {},
   "outputs": [],
   "source": [
    "clf = GaussianNB()"
   ]
  },
  {
   "cell_type": "markdown",
   "id": "a4815be8",
   "metadata": {},
   "source": [
    "Next step is to train the available data X & Y."
   ]
  },
  {
   "cell_type": "code",
   "execution_count": 4,
   "id": "5cc6ec12",
   "metadata": {},
   "outputs": [
    {
     "data": {
      "text/plain": [
       "GaussianNB()"
      ]
     },
     "execution_count": 4,
     "metadata": {},
     "output_type": "execute_result"
    }
   ],
   "source": [
    "clf.fit(X, Y)"
   ]
  },
  {
   "cell_type": "markdown",
   "id": "9bfbf819",
   "metadata": {},
   "source": [
    "Model is trained and is ready for prediction. Prediction is performed to calculate Y for any untrained X."
   ]
  },
  {
   "cell_type": "code",
   "execution_count": 5,
   "id": "9dfd95d6",
   "metadata": {},
   "outputs": [
    {
     "name": "stdout",
     "output_type": "stream",
     "text": [
      "[1]\n"
     ]
    }
   ],
   "source": [
    "print(clf.predict([[-0.8, -1]]))"
   ]
  },
  {
   "cell_type": "markdown",
   "id": "b7dba23e",
   "metadata": {},
   "source": [
    "i.e. When X is [-0.8, 1], predicted Y is 1.\n",
    "\n",
    "Parameters for the classifiers can be obtained using method **get_params**"
   ]
  },
  {
   "cell_type": "code",
   "execution_count": 6,
   "id": "4ad052c9",
   "metadata": {},
   "outputs": [
    {
     "data": {
      "text/plain": [
       "{'priors': None, 'var_smoothing': 1e-09}"
      ]
     },
     "execution_count": 6,
     "metadata": {},
     "output_type": "execute_result"
    }
   ],
   "source": [
    "clf.get_params(deep = True)"
   ]
  },
  {
   "cell_type": "markdown",
   "id": "c660653b",
   "metadata": {},
   "source": [
    "Another method **partial_fit** is expected to be called several times consecutively on different chunks of a dataset so as to implement out-of-core or online learning.\n",
    "\n",
    "This is especially useful when the whole dataset is too big to fit in memory at once.\n",
    "\n",
    "This method has some performance and numerical stability overhead, hence it is better to call partial_fit on chunks of data that are as large as possible (as long as fitting in the memory budget) to hide the overhead."
   ]
  },
  {
   "cell_type": "code",
   "execution_count": 7,
   "id": "1923b340",
   "metadata": {},
   "outputs": [],
   "source": [
    "clf_pf = GaussianNB()"
   ]
  },
  {
   "cell_type": "code",
   "execution_count": 8,
   "id": "b5cc8fb2",
   "metadata": {},
   "outputs": [
    {
     "data": {
      "text/plain": [
       "GaussianNB()"
      ]
     },
     "execution_count": 8,
     "metadata": {},
     "output_type": "execute_result"
    }
   ],
   "source": [
    "clf_pf.partial_fit(X, Y, np.unique(Y))"
   ]
  },
  {
   "cell_type": "code",
   "execution_count": 9,
   "id": "def37f33",
   "metadata": {},
   "outputs": [
    {
     "name": "stdout",
     "output_type": "stream",
     "text": [
      "[1]\n"
     ]
    }
   ],
   "source": [
    "print(clf_pf.predict([[-0.8, -1]]))"
   ]
  }
 ],
 "metadata": {
  "kernelspec": {
   "display_name": "Python 3 (ipykernel)",
   "language": "python",
   "name": "python3"
  },
  "language_info": {
   "codemirror_mode": {
    "name": "ipython",
    "version": 3
   },
   "file_extension": ".py",
   "mimetype": "text/x-python",
   "name": "python",
   "nbconvert_exporter": "python",
   "pygments_lexer": "ipython3",
   "version": "3.9.12"
  }
 },
 "nbformat": 4,
 "nbformat_minor": 5
}
