{
 "cells": [
  {
   "cell_type": "markdown",
   "id": "774598ac",
   "metadata": {},
   "source": [
    "Start by importing required modules/packages"
   ]
  },
  {
   "cell_type": "code",
   "execution_count": 1,
   "id": "c1d88b59",
   "metadata": {},
   "outputs": [],
   "source": [
    "# Import modules\n",
    "import pandas as pd\n",
    "from sklearn.linear_model import LinearRegression\n",
    "from sklearn.metrics import mean_squared_error, r2_score\n",
    "from sklearn.model_selection import train_test_split\n",
    "import numpy as np\n",
    "import matplotlib.pyplot as plt\n",
    "%matplotlib inline"
   ]
  },
  {
   "cell_type": "code",
   "execution_count": 2,
   "id": "8f28734c",
   "metadata": {},
   "outputs": [],
   "source": [
    "#Read the data from csv file into pandas dataframe\n",
    "bike_data = pd.read_csv('https://raw.githubusercontent.com/MicrosoftDocs/mslearn-introduction-to-machine-learning/main/Data/ml-basics/daily-bike-share.csv')"
   ]
  },
  {
   "cell_type": "code",
   "execution_count": 3,
   "id": "a9cae4f7",
   "metadata": {},
   "outputs": [
    {
     "name": "stdout",
     "output_type": "stream",
     "text": [
      "   instant    dteday  season  yr  mnth  holiday  weekday  workingday  \\\n",
      "0        1  1/1/2011       1   0     1        0        6           0   \n",
      "1        2  1/2/2011       1   0     1        0        0           0   \n",
      "2        3  1/3/2011       1   0     1        0        1           1   \n",
      "3        4  1/4/2011       1   0     1        0        2           1   \n",
      "4        5  1/5/2011       1   0     1        0        3           1   \n",
      "\n",
      "   weathersit      temp     atemp       hum  windspeed  rentals  day  \n",
      "0           2  0.344167  0.363625  0.805833   0.160446      331    1  \n",
      "1           2  0.363478  0.353739  0.696087   0.248539      131    2  \n",
      "2           1  0.196364  0.189405  0.437273   0.248309      120    3  \n",
      "3           1  0.200000  0.212122  0.590435   0.160296      108    4  \n",
      "4           1  0.226957  0.229270  0.436957   0.186900       82    5  \n"
     ]
    }
   ],
   "source": [
    "#Working with feaures\n",
    "bike_data['day'] = pd.DatetimeIndex(bike_data['dteday']).day\n",
    "numeric_features = ['temp', 'atemp', 'hum', 'windspeed']\n",
    "categorical_features = ['season','mnth','holiday','weekday','workingday','weathersit', 'day']\n",
    "bike_data[numeric_features + ['rentals']].describe()\n",
    "print(bike_data.head())"
   ]
  },
  {
   "cell_type": "markdown",
   "id": "53ae0926",
   "metadata": {},
   "source": [
    "Separate the features and labels:"
   ]
  },
  {
   "cell_type": "code",
   "execution_count": 4,
   "id": "85c029e2",
   "metadata": {},
   "outputs": [],
   "source": [
    "X, y = bike_data[['season','mnth', 'holiday','weekday','workingday','weathersit','temp', 'atemp', 'hum', 'windspeed']].values, bike_data['rentals'].values"
   ]
  },
  {
   "cell_type": "markdown",
   "id": "b4714189",
   "metadata": {},
   "source": [
    "Split the data into test and train set."
   ]
  },
  {
   "cell_type": "code",
   "execution_count": 5,
   "id": "0b04aab2",
   "metadata": {},
   "outputs": [
    {
     "name": "stdout",
     "output_type": "stream",
     "text": [
      "Training Set: 511 rows\n",
      "Test Set: 220 rows\n"
     ]
    }
   ],
   "source": [
    "X_train, X_test, y_train, y_test = train_test_split(X, y, test_size=0.30, random_state=0)\n",
    "\n",
    "print ('Training Set: %d rows\\nTest Set: %d rows' % (X_train.shape[0], X_test.shape[0]))\n"
   ]
  },
  {
   "cell_type": "markdown",
   "id": "9b1de91a",
   "metadata": {},
   "source": [
    "Now we have the following four datasets:\n",
    "\n",
    "- **X_train**: The feature values we'll use to train the model\n",
    "- **y_train**: The corresponding labels we'll use to train the model\n",
    "- **X_test**: The feature values we'll use to validate the model\n",
    "- **y_test**: The corresponding labels we'll use to validate the model"
   ]
  },
  {
   "cell_type": "markdown",
   "id": "cba3df4a",
   "metadata": {},
   "source": [
    "Begin the model Training:"
   ]
  },
  {
   "cell_type": "code",
   "execution_count": 6,
   "id": "3520720e",
   "metadata": {},
   "outputs": [],
   "source": [
    "#Import GradientBoostingRegressor\n",
    "from sklearn.ensemble import GradientBoostingRegressor"
   ]
  },
  {
   "cell_type": "markdown",
   "id": "3e2f389f",
   "metadata": {},
   "source": [
    "Generate a model and fit it into training set."
   ]
  },
  {
   "cell_type": "code",
   "execution_count": 7,
   "id": "62f94293",
   "metadata": {},
   "outputs": [
    {
     "data": {
      "text/plain": [
       "GradientBoostingRegressor()"
      ]
     },
     "execution_count": 7,
     "metadata": {},
     "output_type": "execute_result"
    }
   ],
   "source": [
    "model_gb = GradientBoostingRegressor()\n",
    "model_gb.fit(X_train, y_train)"
   ]
  },
  {
   "cell_type": "markdown",
   "id": "d260b15e",
   "metadata": {},
   "source": [
    "Work with test data to visualize predicted labels vs actual labels"
   ]
  },
  {
   "cell_type": "code",
   "execution_count": 8,
   "id": "a6100d59",
   "metadata": {},
   "outputs": [
    {
     "data": {
      "image/png": "[encoded data removed]",
      "text/plain": [
       "<Figure size 432x288 with 1 Axes>"
      ]
     },
     "metadata": {
      "needs_background": "light"
     },
     "output_type": "display_data"
    }
   ],
   "source": [
    "predictions_gb = model_gb.predict(X_test)\n",
    "\n",
    "# Plot predicted vs actual\n",
    "plt.scatter(y_test, predictions_gb)\n",
    "plt.xlabel('Actual Labels')\n",
    "plt.ylabel('Predicted Labels')\n",
    "plt.title('Daily Bike Share Predictions')\n",
    "# overlay the regression line\n",
    "z = np.polyfit(y_test, predictions_gb, 1)\n",
    "p = np.poly1d(z)\n",
    "plt.plot(y_test,p(y_test), color='magenta')\n",
    "plt.show()"
   ]
  },
  {
   "cell_type": "markdown",
   "id": "d3c76d8e",
   "metadata": {},
   "source": [
    "Evaluate the model using evaluation metrics:"
   ]
  },
  {
   "cell_type": "code",
   "execution_count": 9,
   "id": "43b02f9a",
   "metadata": {},
   "outputs": [
    {
     "name": "stdout",
     "output_type": "stream",
     "text": [
      "MSE: 103908.39979903326\n",
      "RMSE: 322.34825856367405\n",
      "R2: 0.7962941038636707\n"
     ]
    }
   ],
   "source": [
    "mse = mean_squared_error(y_test, predictions_gb)\n",
    "print(\"MSE:\", mse)\n",
    "rmse = np.sqrt(mse)\n",
    "print(\"RMSE:\", rmse)\n",
    "r2 = r2_score(y_test, predictions_gb)\n",
    "print(\"R2:\", r2)"
   ]
  },
  {
   "cell_type": "markdown",
   "id": "b6f9c9fe",
   "metadata": {},
   "source": [
    "## Optimize Hyperparameters\n",
    "GradientBoostingRegressor consists of large number of parameters that control the way the model is trained. In Machine Learning, the term *parameter* refers to values that can be determined from data whereas the values that we as a Data Scientist specify to control or change the behavior of training algorithm are referred as *hyperparameters*.\n",
    "\n",
    "Learning about what are the hyperparameters in our model/algorithm, we can modify them in order to get more productive performance or reduce training time.\n",
    "\n",
    "So how do we know what hyperparameter values you should use? Well, in the absence of a deep understanding of how the underlying algorithm works, we'll need to experiment. \n",
    "\n",
    "We can use combinations of hyperparameters to find the better result.\n",
    "\n",
    "Let's try using a *grid search* approach to try combinations from a grid of possible values for the **learning_rate** and **n_estimators** hyperparameters of the **GradientBoostingRegressor** estimator."
   ]
  },
  {
   "cell_type": "code",
   "execution_count": 10,
   "id": "a28ac2ee",
   "metadata": {},
   "outputs": [],
   "source": [
    "from sklearn.model_selection import GridSearchCV\n",
    "from sklearn.metrics import make_scorer, r2_score"
   ]
  },
  {
   "cell_type": "code",
   "execution_count": 11,
   "id": "a64843c3",
   "metadata": {},
   "outputs": [],
   "source": [
    "# Use a Gradient Boosting algorithm\n",
    "alg = GradientBoostingRegressor()"
   ]
  },
  {
   "cell_type": "code",
   "execution_count": 12,
   "id": "baca86cd",
   "metadata": {},
   "outputs": [],
   "source": [
    "# Try these hyperparameter values\n",
    "params = {\n",
    " 'learning_rate': [0.1, 0.5, 1.0],\n",
    " 'n_estimators' : [50, 100, 150]\n",
    " }"
   ]
  },
  {
   "cell_type": "code",
   "execution_count": 13,
   "id": "eeaa9854",
   "metadata": {},
   "outputs": [
    {
     "name": "stdout",
     "output_type": "stream",
     "text": [
      "Best parameter combination: {'learning_rate': 0.1, 'n_estimators': 50} \n",
      "\n"
     ]
    }
   ],
   "source": [
    "# Find the best hyperparameter combination to optimize the R2 metric\n",
    "score = make_scorer(r2_score)\n",
    "\n",
    "gridsearch = GridSearchCV(alg, params, scoring=score, cv=3, return_train_score=True)\n",
    "\n",
    "gridsearch.fit(X_train, y_train)\n",
    "\n",
    "print(\"Best parameter combination:\", gridsearch.best_params_, \"\\n\")"
   ]
  },
  {
   "cell_type": "code",
   "execution_count": 14,
   "id": "5d490f1a",
   "metadata": {},
   "outputs": [
    {
     "name": "stdout",
     "output_type": "stream",
     "text": [
      "GradientBoostingRegressor(n_estimators=50) \n",
      "\n"
     ]
    }
   ],
   "source": [
    "#Get the best performing model\n",
    "model_hpt = gridsearch.best_estimator_\n",
    "print(model_hpt,\"\\n\")"
   ]
  },
  {
   "cell_type": "markdown",
   "id": "0e2250de",
   "metadata": {},
   "source": [
    "Visualize the test set labels with predicted labels for the best performing model:"
   ]
  },
  {
   "cell_type": "code",
   "execution_count": 15,
   "id": "1cf58552",
   "metadata": {},
   "outputs": [],
   "source": [
    "predictions_hpt = model_hpt.predict(X_test)"
   ]
  },
  {
   "cell_type": "code",
   "execution_count": 16,
   "id": "85d087a3",
   "metadata": {},
   "outputs": [
    {
     "data": {
      "image/png": "[encoded data removed]",
      "text/plain": [
       "<Figure size 432x288 with 1 Axes>"
      ]
     },
     "metadata": {
      "needs_background": "light"
     },
     "output_type": "display_data"
    }
   ],
   "source": [
    "# Plot predicted vs actual\n",
    "plt.scatter(y_test, predictions_hpt)\n",
    "plt.xlabel('Actual Labels')\n",
    "plt.ylabel('Predicted Labels')\n",
    "plt.title('Daily Bike Share Predictions')\n",
    "# overlay the regression line\n",
    "z = np.polyfit(y_test, predictions_hpt, 1)\n",
    "p = np.poly1d(z)\n",
    "plt.plot(y_test,p(y_test), color='magenta')\n",
    "plt.show()"
   ]
  },
  {
   "cell_type": "markdown",
   "id": "2417416a",
   "metadata": {},
   "source": [
    "Calculate the evaluation metrics:"
   ]
  },
  {
   "cell_type": "code",
   "execution_count": 17,
   "id": "ba0ac2ad",
   "metadata": {},
   "outputs": [
    {
     "name": "stdout",
     "output_type": "stream",
     "text": [
      "MSE: 108723.51832223826\n",
      "RMSE: 329.73249509600697\n",
      "R2: 0.7868543662133057\n"
     ]
    }
   ],
   "source": [
    "# Evaluate the model using the test data\n",
    "mse = mean_squared_error(y_test, predictions_hpt)\n",
    "print(\"MSE:\", mse)\n",
    "rmse = np.sqrt(mse)\n",
    "print(\"RMSE:\", rmse)\n",
    "r2 = r2_score(y_test, predictions_hpt)\n",
    "print(\"R2:\", r2)"
   ]
  },
  {
   "cell_type": "markdown",
   "id": "0cf55845",
   "metadata": {},
   "source": [
    "## Preprocess the Data\n",
    "\n",
    "We trained a model with data that was loaded straight from a source file, with only moderately successful results.\n",
    "\n",
    "In practice, it's common to perform some preprocessing of the data to make it easier for the algorithm to fit a model to it. There's a huge range of preprocessing transformations we can perform to get our data ready for modeling:\n"
   ]
  },
  {
   "cell_type": "markdown",
   "id": "99d63e97",
   "metadata": {},
   "source": [
    "Here are some preprocessing methods we can use: "
   ]
  },
  {
   "cell_type": "markdown",
   "id": "bd8c27db",
   "metadata": {},
   "source": [
    "### 1. Scaling numeric features\n",
    "\n",
    "Normalizing numeric features so they're on the same scale prevents features with large values from producing coefficients that disproportionately affect the predictions. For example, suppose your data includes the following numeric features:\n",
    "\n",
    "| A |  B  |  C  |\n",
    "| - | --- | --- |\n",
    "| 3 | 480 | 65  |\n",
    "    \n",
    "Normalizing these features to the same scale may result in the following values (assuming A contains values from 0 to 10, B contains values from 0 to 1000, and C contains values from 0 to 100):\n",
    "\n",
    "|  A  |  B  |  C  |\n",
    "| --  | --- | --- |\n",
    "| 0.3 | 0.48| 0.65|\n",
    "\n",
    "There are multiple ways you can scale numeric data, such as calculating the minimum and maximum values for each column and assigning a proportional value between 0 and 1, or by using the mean and standard deviation of a normally distributed variable to maintain the same *spread* of values on a different scale.\n"
   ]
  },
  {
   "cell_type": "markdown",
   "id": "aa6d9cd3",
   "metadata": {},
   "source": [
    "### 2. Encoding categorical variables\n",
    "\n",
    "Machine learning models work best with numeric features rather than text values, so we generally need to convert categorical features into numeric representations.  For example, suppose our data includes the following categorical feature. \n",
    "\n",
    "| Size |\n",
    "| ---- |\n",
    "|  S   |\n",
    "|  M   |\n",
    "|  L   |\n",
    "\n",
    "We can apply *ordinal encoding* to substitute a unique integer value for each category, like this:\n",
    "\n",
    "| Size |\n",
    "| ---- |\n",
    "|  0   |\n",
    "|  1   |\n",
    "|  2   |\n",
    "\n",
    "Another common technique is to use *one hot encoding* to create individual binary (0 or 1) features for each possible category value. For example, we could use one-hot encoding to translate the possible categories into binary columns like this:\n",
    "\n",
    "|  Size_S  |  Size_M  |  Size_L  |\n",
    "| -------  | -------- | -------- |\n",
    "|    1     |     0    |    0     |\n",
    "|    0     |     1    |    0     |\n",
    "|    0     |     0    |    1     |\n",
    "\n",
    "To apply these preprocessing transformations to the bike rental, we'll make use of a Scikit-Learn feature named *pipelines*. These enable us to define a set of preprocessing steps that end with an algorithm. We can then fit the entire pipeline to the data, so that the model encapsulates all of the preprocessing steps as well as the regression algorithm. This is useful, because when we want to use the model to predict values from new data, we need to apply the same transformations (based on the same statistical distributions and category encodings used with the training data).\n"
   ]
  },
  {
   "cell_type": "markdown",
   "id": "1447cd4b",
   "metadata": {},
   "source": [
    "Let's start training the model:"
   ]
  },
  {
   "cell_type": "code",
   "execution_count": 18,
   "id": "693bcfe4",
   "metadata": {},
   "outputs": [],
   "source": [
    "#Import modules:\n",
    "\n",
    "from sklearn.compose import ColumnTransformer\n",
    "from sklearn.pipeline import Pipeline\n",
    "from sklearn.impute import SimpleImputer\n",
    "from sklearn.preprocessing import StandardScaler, OneHotEncoder\n",
    "from sklearn.linear_model import LinearRegression\n",
    "import numpy as np"
   ]
  },
  {
   "cell_type": "code",
   "execution_count": 19,
   "id": "efc276a9",
   "metadata": {},
   "outputs": [],
   "source": [
    "# Define preprocessing for numeric columns (scale them)\n",
    "numeric_features = [6,7,8,9]\n",
    "numeric_transformer = Pipeline(steps=[('scaler', StandardScaler())])"
   ]
  },
  {
   "cell_type": "code",
   "execution_count": 20,
   "id": "82db765b",
   "metadata": {},
   "outputs": [],
   "source": [
    "# Define preprocessing for categorical features (encode them)\n",
    "categorical_features = [0,1,2,3,4,5]\n",
    "categorical_transformer = Pipeline(steps=[\n",
    "    ('onehot', OneHotEncoder(handle_unknown='ignore'))])"
   ]
  },
  {
   "cell_type": "code",
   "execution_count": 21,
   "id": "35c8e82f",
   "metadata": {},
   "outputs": [],
   "source": [
    "# Combine preprocessing steps\n",
    "preprocessor = ColumnTransformer(\n",
    "    transformers=[\n",
    "        ('num', numeric_transformer, numeric_features),\n",
    "        ('cat', categorical_transformer, categorical_features)])"
   ]
  },
  {
   "cell_type": "code",
   "execution_count": 22,
   "id": "0a89cb22",
   "metadata": {},
   "outputs": [],
   "source": [
    "# Create preprocessing and training pipeline\n",
    "pipeline_001 = Pipeline(steps=[('preprocessor', preprocessor),\n",
    "                           ('regressor', GradientBoostingRegressor())])\n"
   ]
  },
  {
   "cell_type": "code",
   "execution_count": 23,
   "id": "51b5e253",
   "metadata": {},
   "outputs": [
    {
     "name": "stdout",
     "output_type": "stream",
     "text": [
      "Pipeline(steps=[('preprocessor',\n",
      "                 ColumnTransformer(transformers=[('num',\n",
      "                                                  Pipeline(steps=[('scaler',\n",
      "                                                                   StandardScaler())]),\n",
      "                                                  [6, 7, 8, 9]),\n",
      "                                                 ('cat',\n",
      "                                                  Pipeline(steps=[('onehot',\n",
      "                                                                   OneHotEncoder(handle_unknown='ignore'))]),\n",
      "                                                  [0, 1, 2, 3, 4, 5])])),\n",
      "                ('regressor', GradientBoostingRegressor())])\n"
     ]
    }
   ],
   "source": [
    "# fit the pipeline to train a linear regression model on the training set\n",
    "model_001 = pipeline_001.fit(X_train, (y_train))\n",
    "print (model_001)"
   ]
  },
  {
   "cell_type": "markdown",
   "id": "65ff6c86",
   "metadata": {},
   "source": [
    "OK, the model is trained, including the preprocessing steps. Let's see how it performs with the validation data."
   ]
  },
  {
   "cell_type": "code",
   "execution_count": 24,
   "id": "274807da",
   "metadata": {},
   "outputs": [
    {
     "name": "stdout",
     "output_type": "stream",
     "text": [
      "MSE: 105204.34827033458\n",
      "RMSE: 324.3521978811529\n",
      "R2: 0.7937534782241313\n"
     ]
    },
    {
     "data": {
      "image/png": "[encoded data removed]",
      "text/plain": [
       "<Figure size 432x288 with 1 Axes>"
      ]
     },
     "metadata": {
      "needs_background": "light"
     },
     "output_type": "display_data"
    }
   ],
   "source": [
    "# Get predictions\n",
    "predictions_001 = model_001.predict(X_test)\n",
    "\n",
    "# Display metrics\n",
    "mse = mean_squared_error(y_test, predictions_001)\n",
    "print(\"MSE:\", mse)\n",
    "rmse = np.sqrt(mse)\n",
    "print(\"RMSE:\", rmse)\n",
    "r2 = r2_score(y_test, predictions_001)\n",
    "print(\"R2:\", r2)\n",
    "\n",
    "# Plot predicted vs actual\n",
    "plt.scatter(y_test, predictions_001)\n",
    "plt.xlabel('Actual Labels')\n",
    "plt.ylabel('Predicted Labels')\n",
    "plt.title('Daily Bike Share Predictions')\n",
    "z = np.polyfit(y_test, predictions_001, 1)\n",
    "p = np.poly1d(z)\n",
    "plt.plot(y_test,p(y_test), color='magenta')\n",
    "plt.show()"
   ]
  },
  {
   "cell_type": "markdown",
   "id": "ab1ec860",
   "metadata": {},
   "source": [
    "The pipeline is composed of the transformations and the algorithm used to train the model. To try an alternative algorithm we can just change that step to a different kind of estimator.\n",
    "\n"
   ]
  },
  {
   "cell_type": "code",
   "execution_count": 25,
   "id": "61fa7606",
   "metadata": {},
   "outputs": [],
   "source": [
    "from sklearn.ensemble import RandomForestRegressor\n",
    "# Use a different estimator in the pipeline\n",
    "pipeline_002 = Pipeline(steps=[('preprocessor', preprocessor),\n",
    "                           ('regressor', RandomForestRegressor())])\n"
   ]
  },
  {
   "cell_type": "code",
   "execution_count": 26,
   "id": "264ba5cf",
   "metadata": {},
   "outputs": [
    {
     "name": "stdout",
     "output_type": "stream",
     "text": [
      "Pipeline(steps=[('preprocessor',\n",
      "                 ColumnTransformer(transformers=[('num',\n",
      "                                                  Pipeline(steps=[('scaler',\n",
      "                                                                   StandardScaler())]),\n",
      "                                                  [6, 7, 8, 9]),\n",
      "                                                 ('cat',\n",
      "                                                  Pipeline(steps=[('onehot',\n",
      "                                                                   OneHotEncoder(handle_unknown='ignore'))]),\n",
      "                                                  [0, 1, 2, 3, 4, 5])])),\n",
      "                ('regressor', RandomForestRegressor())]) \n",
      "\n"
     ]
    }
   ],
   "source": [
    "# fit the pipeline to train a linear regression model on the training set\n",
    "model_002 = pipeline_002.fit(X_train, (y_train))\n",
    "print (model_002, \"\\n\")\n"
   ]
  },
  {
   "cell_type": "code",
   "execution_count": 27,
   "id": "32875e41",
   "metadata": {},
   "outputs": [],
   "source": [
    "# Get predictions\n",
    "predictions_002 = model_002.predict(X_test)"
   ]
  },
  {
   "cell_type": "code",
   "execution_count": 28,
   "id": "cd625e80",
   "metadata": {},
   "outputs": [
    {
     "data": {
      "image/png": "[encoded data removed]",
      "text/plain": [
       "<Figure size 432x288 with 1 Axes>"
      ]
     },
     "metadata": {
      "needs_background": "light"
     },
     "output_type": "display_data"
    }
   ],
   "source": [
    "# Plot predicted vs actual\n",
    "plt.scatter(y_test, predictions_002)\n",
    "plt.xlabel('Actual Labels')\n",
    "plt.ylabel('Predicted Labels')\n",
    "plt.title('Daily Bike Share Predictions - Preprocessed')\n",
    "z = np.polyfit(y_test, predictions_002, 1)\n",
    "p = np.poly1d(z)\n",
    "plt.plot(y_test,p(y_test), color='magenta')\n",
    "plt.show()"
   ]
  },
  {
   "cell_type": "code",
   "execution_count": 29,
   "id": "4b26c4f3",
   "metadata": {},
   "outputs": [
    {
     "name": "stdout",
     "output_type": "stream",
     "text": [
      "MSE: 100037.54193363637\n",
      "RMSE: 316.28711945578243\n",
      "R2: 0.8038826777596415\n"
     ]
    }
   ],
   "source": [
    "# Display metrics\n",
    "mse = mean_squared_error(y_test, predictions_002)\n",
    "print(\"MSE:\", mse)\n",
    "rmse = np.sqrt(mse)\n",
    "print(\"RMSE:\", rmse)\n",
    "r2 = r2_score(y_test, predictions_002)\n",
    "print(\"R2:\", r2)"
   ]
  },
  {
   "cell_type": "markdown",
   "id": "f2a87618",
   "metadata": {},
   "source": [
    "We've now seen a number of common techniques used to train predictive models for regression. In a real project, we'll likely try a few more algorithms, hyperparameters, and preprocessing transformations; but this is the general idea. Let's explore how we can use the trained model with new data."
   ]
  },
  {
   "cell_type": "markdown",
   "id": "dc2a2f83",
   "metadata": {},
   "source": [
    "### Use the Trained Model\n",
    "\n",
    "Start by saving the model."
   ]
  },
  {
   "cell_type": "code",
   "execution_count": 30,
   "id": "29c7ba59",
   "metadata": {},
   "outputs": [
    {
     "data": {
      "text/plain": [
       "['./bike-share-001.pkl']"
      ]
     },
     "execution_count": 30,
     "metadata": {},
     "output_type": "execute_result"
    }
   ],
   "source": [
    "import joblib\n",
    "\n",
    "#Saving the model_001 as pickle file\n",
    "filename_001 = './bike-share-001.pkl'\n",
    "joblib.dump(model_001, filename_001)"
   ]
  },
  {
   "cell_type": "code",
   "execution_count": 31,
   "id": "9697bae3",
   "metadata": {},
   "outputs": [
    {
     "data": {
      "text/plain": [
       "['./bike-share-002.pkl']"
      ]
     },
     "execution_count": 31,
     "metadata": {},
     "output_type": "execute_result"
    }
   ],
   "source": [
    "#Saving the model_002 as pickle file\n",
    "filename_002 = './bike-share-002.pkl'\n",
    "joblib.dump(model_002, filename_002)"
   ]
  },
  {
   "cell_type": "markdown",
   "id": "da717d95",
   "metadata": {},
   "source": [
    "Now, we can load it whenever we need it, and use it to predict labels for new data. This is often called *scoring* or *inferencing*."
   ]
  },
  {
   "cell_type": "code",
   "execution_count": 32,
   "id": "e1f65b05",
   "metadata": {},
   "outputs": [],
   "source": [
    "# Load the model_001 from the file\n",
    "loaded_model_001 = joblib.load(filename_001)"
   ]
  },
  {
   "cell_type": "code",
   "execution_count": 33,
   "id": "85902536",
   "metadata": {},
   "outputs": [
    {
     "name": "stdout",
     "output_type": "stream",
     "text": [
      "New sample: [1.0, 1.0, 0.0, 3.0, 1.0, 1.0, 0.226957, 0.22927, 0.436957, 0.1869]\n"
     ]
    }
   ],
   "source": [
    "# Create a numpy array containing a new observation (for example tomorrow's seasonal and weather forecast information)\n",
    "X_new_001= np.array([[1,1,0,3,1,1,0.226957,0.22927,0.436957,0.1869]]).astype('float64')\n",
    "print ('New sample: {}'.format(list(X_new_001[0])))"
   ]
  },
  {
   "cell_type": "code",
   "execution_count": 34,
   "id": "fa5f1577",
   "metadata": {},
   "outputs": [
    {
     "name": "stdout",
     "output_type": "stream",
     "text": [
      "Prediction: 122 rentals\n"
     ]
    }
   ],
   "source": [
    "# Use the model to predict tomorrow's rentals\n",
    "result = loaded_model_001.predict(X_new_001)\n",
    "print('Prediction: {:.0f} rentals'.format(np.round(result[0])))"
   ]
  },
  {
   "cell_type": "code",
   "execution_count": 35,
   "id": "c4d2aef8",
   "metadata": {},
   "outputs": [],
   "source": [
    "#load the model_002 from the file\n",
    "loaded_model_002 = joblib.load(filename_002)"
   ]
  },
  {
   "cell_type": "code",
   "execution_count": 36,
   "id": "366ffc61",
   "metadata": {},
   "outputs": [],
   "source": [
    "# An array of features based on five-day weather forecast\n",
    "X_new_002 = np.array([[0,1,1,0,0,1,0.344167,0.363625,0.805833,0.160446],\n",
    "                  [0,1,0,1,0,1,0.363478,0.353739,0.696087,0.248539],\n",
    "                  [0,1,0,2,0,1,0.196364,0.189405,0.437273,0.248309],\n",
    "                  [0,1,0,3,0,1,0.2,0.212122,0.590435,0.160296],\n",
    "                  [0,1,0,4,0,1,0.226957,0.22927,0.436957,0.1869]])"
   ]
  },
  {
   "cell_type": "code",
   "execution_count": 37,
   "id": "0e8e1242",
   "metadata": {},
   "outputs": [
    {
     "name": "stdout",
     "output_type": "stream",
     "text": [
      "5 -Day rental predictions : \n",
      "548.0\n",
      "824.0\n",
      "238.0\n",
      "191.0\n",
      "273.0\n"
     ]
    }
   ],
   "source": [
    "# Use the model to predict rentals\n",
    "results = loaded_model_002.predict(X_new_002)\n",
    "print('5 -Day rental predictions : ')\n",
    "\n",
    "for prediction in results:\n",
    "    print(np.round(prediction))"
   ]
  }
 ],
 "metadata": {
  "kernelspec": {
   "display_name": "Python 3 (ipykernel)",
   "language": "python",
   "name": "python3"
  },
  "language_info": {
   "codemirror_mode": {
    "name": "ipython",
    "version": 3
   },
   "file_extension": ".py",
   "mimetype": "text/x-python",
   "name": "python",
   "nbconvert_exporter": "python",
   "pygments_lexer": "ipython3",
   "version": "3.9.12"
  }
 },
 "nbformat": 4,
 "nbformat_minor": 5
}
