{
 "cells": [
  {
   "cell_type": "markdown",
   "id": "130569f4",
   "metadata": {},
   "source": [
    "__FunctionTransformer() :__ A FunctionTransformer forwards its X (and optionally y) arguments to a user-defined function or function object and returns the result of this function. This is useful for stateless transformations such as taking the log of frequencies, doing custom scaling, etc. Let's look at a simple Example:\n",
    "\n"
   ]
  },
  {
   "cell_type": "code",
   "execution_count": 1,
   "id": "cc30e871",
   "metadata": {},
   "outputs": [
    {
     "data": {
      "text/html": [
       "<div>\n",
       "<style scoped>\n",
       "    .dataframe tbody tr th:only-of-type {\n",
       "        vertical-align: middle;\n",
       "    }\n",
       "\n",
       "    .dataframe tbody tr th {\n",
       "        vertical-align: top;\n",
       "    }\n",
       "\n",
       "    .dataframe thead th {\n",
       "        text-align: right;\n",
       "    }\n",
       "</style>\n",
       "<table border=\"1\" class=\"dataframe\">\n",
       "  <thead>\n",
       "    <tr style=\"text-align: right;\">\n",
       "      <th></th>\n",
       "      <th>Fare</th>\n",
       "      <th>Seat</th>\n",
       "      <th>Code</th>\n",
       "    </tr>\n",
       "  </thead>\n",
       "  <tbody>\n",
       "    <tr>\n",
       "      <th>0</th>\n",
       "      <td>200</td>\n",
       "      <td>A101</td>\n",
       "      <td>X12</td>\n",
       "    </tr>\n",
       "    <tr>\n",
       "      <th>1</th>\n",
       "      <td>300</td>\n",
       "      <td>C102</td>\n",
       "      <td>Y56</td>\n",
       "    </tr>\n",
       "    <tr>\n",
       "      <th>2</th>\n",
       "      <td>50</td>\n",
       "      <td>A200</td>\n",
       "      <td>E45</td>\n",
       "    </tr>\n",
       "    <tr>\n",
       "      <th>3</th>\n",
       "      <td>900</td>\n",
       "      <td>C300</td>\n",
       "      <td>G27</td>\n",
       "    </tr>\n",
       "  </tbody>\n",
       "</table>\n",
       "</div>"
      ],
      "text/plain": [
       "   Fare  Seat Code\n",
       "0   200  A101  X12\n",
       "1   300  C102  Y56\n",
       "2    50  A200  E45\n",
       "3   900  C300  G27"
      ]
     },
     "execution_count": 1,
     "metadata": {},
     "output_type": "execute_result"
    }
   ],
   "source": [
    "import pandas as pd\n",
    "import numpy as np\n",
    "#First lets create a small dataframe from dictionary\n",
    "a = {\n",
    "    'Fare' : [200, 300, 50, 900],\n",
    "    'Seat' : ['A101', 'C102', 'A200', 'C300'],\n",
    "    'Code' : ['X12', 'Y56', 'E45', 'G27'],\n",
    "}\n",
    "\n",
    "#Convert the dictionary to dataframe\n",
    "my_df = pd.DataFrame(a)\n",
    "my_df"
   ]
  },
  {
   "cell_type": "code",
   "execution_count": 2,
   "id": "543c7d8c",
   "metadata": {},
   "outputs": [],
   "source": [
    "from sklearn.preprocessing import FunctionTransformer\n",
    "\n",
    "\n",
    "#Convert existing function into a transformer:\n",
    "clip_fares = FunctionTransformer(np.clip, kw_args = {'a_min':100, 'a_max':600})\n",
    "\n",
    "\n",
    "#Function to textract first letter of a string:\n",
    "def first_letter(df):\n",
    "    return df.apply(lambda x: x.str.slice(0,1))\n",
    "\n",
    "#Convert custom function into a transformer\n",
    "get_first_letter = FunctionTransformer(first_letter)"
   ]
  },
  {
   "cell_type": "code",
   "execution_count": 3,
   "id": "3722ebe4",
   "metadata": {},
   "outputs": [],
   "source": [
    "#Include the functions transformers in a column transformer \n",
    "from sklearn.compose import make_column_transformer\n",
    "ct = make_column_transformer((clip_fares, ['Fare']),(get_first_letter, ['Seat','Code']))"
   ]
  },
  {
   "cell_type": "code",
   "execution_count": 4,
   "id": "03e10a36",
   "metadata": {},
   "outputs": [
    {
     "data": {
      "text/plain": [
       "array([[200, 'A', 'X'],\n",
       "       [300, 'C', 'Y'],\n",
       "       [100, 'A', 'E'],\n",
       "       [600, 'C', 'G']], dtype=object)"
      ]
     },
     "execution_count": 4,
     "metadata": {},
     "output_type": "execute_result"
    }
   ],
   "source": [
    "\n",
    "#Apply the transformations using fit_transform:\n",
    "ct.fit_transform(my_df)"
   ]
  }
 ],
 "metadata": {
  "kernelspec": {
   "display_name": "Python 3 (ipykernel)",
   "language": "python",
   "name": "python3"
  },
  "language_info": {
   "codemirror_mode": {
    "name": "ipython",
    "version": 3
   },
   "file_extension": ".py",
   "mimetype": "text/x-python",
   "name": "python",
   "nbconvert_exporter": "python",
   "pygments_lexer": "ipython3",
   "version": "3.9.12"
  }
 },
 "nbformat": 4,
 "nbformat_minor": 5
}
