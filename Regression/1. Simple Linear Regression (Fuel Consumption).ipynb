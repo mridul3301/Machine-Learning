{
 "cells": [
  {
   "cell_type": "markdown",
   "id": "69bd4e6c",
   "metadata": {},
   "source": [
    "__Importing Required packages:__\n",
    "1. Matplotlib\n",
    "2. Pandas\n",
    "3. Numpy\n",
    "\n",
    "\"__%matplotlib inline__\" is used to get the output from matplotlib(plots, graphs etc..) in the jupyter notebook frontend."
   ]
  },
  {
   "cell_type": "code",
   "execution_count": 1,
   "id": "525157ac",
   "metadata": {},
   "outputs": [],
   "source": [
    "import matplotlib.pyplot as plt\n",
    "import pandas as pd\n",
    "import numpy as np\n",
    "%matplotlib inline"
   ]
  },
  {
   "cell_type": "markdown",
   "id": "07181ada",
   "metadata": {},
   "source": [
    "__Importing DataFrame__\n",
    "\n",
    "We have downloaded the dataframe from Kaggle and now we will be using __read_csv__ to load it in variable df.\n",
    "\n",
    "Download Link : https://www.kaggle.com/datasets/sarita19/fuel-consumption?resource=download"
   ]
  },
  {
   "cell_type": "code",
   "execution_count": 2,
   "id": "f1d5d563",
   "metadata": {},
   "outputs": [],
   "source": [
    "df = pd.read_csv(\"FuelConsumption.csv\")"
   ]
  },
  {
   "cell_type": "markdown",
   "id": "f98738e8",
   "metadata": {},
   "source": [
    "Let's look at the dataset using __.head()__."
   ]
  },
  {
   "cell_type": "code",
   "execution_count": 3,
   "id": "36b2158d",
   "metadata": {},
   "outputs": [
    {
     "data": {
      "text/html": [
       "<div>\n",
       "<style scoped>\n",
       "    .dataframe tbody tr th:only-of-type {\n",
       "        vertical-align: middle;\n",
       "    }\n",
       "\n",
       "    .dataframe tbody tr th {\n",
       "        vertical-align: top;\n",
       "    }\n",
       "\n",
       "    .dataframe thead th {\n",
       "        text-align: right;\n",
       "    }\n",
       "</style>\n",
       "<table border=\"1\" class=\"dataframe\">\n",
       "  <thead>\n",
       "    <tr style=\"text-align: right;\">\n",
       "      <th></th>\n",
       "      <th>MODELYEAR</th>\n",
       "      <th>MAKE</th>\n",
       "      <th>MODEL</th>\n",
       "      <th>VEHICLECLASS</th>\n",
       "      <th>ENGINESIZE</th>\n",
       "      <th>CYLINDERS</th>\n",
       "      <th>TRANSMISSION</th>\n",
       "      <th>FUELTYPE</th>\n",
       "      <th>FUELCONSUMPTION_CITY</th>\n",
       "      <th>FUELCONSUMPTION_HWY</th>\n",
       "      <th>FUELCONSUMPTION_COMB</th>\n",
       "      <th>FUELCONSUMPTION_COMB_MPG</th>\n",
       "      <th>CO2EMISSIONS</th>\n",
       "    </tr>\n",
       "  </thead>\n",
       "  <tbody>\n",
       "    <tr>\n",
       "      <th>0</th>\n",
       "      <td>2014</td>\n",
       "      <td>ACURA</td>\n",
       "      <td>ILX</td>\n",
       "      <td>COMPACT</td>\n",
       "      <td>2.0</td>\n",
       "      <td>4</td>\n",
       "      <td>AS5</td>\n",
       "      <td>Z</td>\n",
       "      <td>9.9</td>\n",
       "      <td>6.7</td>\n",
       "      <td>8.5</td>\n",
       "      <td>33</td>\n",
       "      <td>196</td>\n",
       "    </tr>\n",
       "    <tr>\n",
       "      <th>1</th>\n",
       "      <td>2014</td>\n",
       "      <td>ACURA</td>\n",
       "      <td>ILX</td>\n",
       "      <td>COMPACT</td>\n",
       "      <td>2.4</td>\n",
       "      <td>4</td>\n",
       "      <td>M6</td>\n",
       "      <td>Z</td>\n",
       "      <td>11.2</td>\n",
       "      <td>7.7</td>\n",
       "      <td>9.6</td>\n",
       "      <td>29</td>\n",
       "      <td>221</td>\n",
       "    </tr>\n",
       "    <tr>\n",
       "      <th>2</th>\n",
       "      <td>2014</td>\n",
       "      <td>ACURA</td>\n",
       "      <td>ILX HYBRID</td>\n",
       "      <td>COMPACT</td>\n",
       "      <td>1.5</td>\n",
       "      <td>4</td>\n",
       "      <td>AV7</td>\n",
       "      <td>Z</td>\n",
       "      <td>6.0</td>\n",
       "      <td>5.8</td>\n",
       "      <td>5.9</td>\n",
       "      <td>48</td>\n",
       "      <td>136</td>\n",
       "    </tr>\n",
       "    <tr>\n",
       "      <th>3</th>\n",
       "      <td>2014</td>\n",
       "      <td>ACURA</td>\n",
       "      <td>MDX 4WD</td>\n",
       "      <td>SUV - SMALL</td>\n",
       "      <td>3.5</td>\n",
       "      <td>6</td>\n",
       "      <td>AS6</td>\n",
       "      <td>Z</td>\n",
       "      <td>12.7</td>\n",
       "      <td>9.1</td>\n",
       "      <td>11.1</td>\n",
       "      <td>25</td>\n",
       "      <td>255</td>\n",
       "    </tr>\n",
       "    <tr>\n",
       "      <th>4</th>\n",
       "      <td>2014</td>\n",
       "      <td>ACURA</td>\n",
       "      <td>RDX AWD</td>\n",
       "      <td>SUV - SMALL</td>\n",
       "      <td>3.5</td>\n",
       "      <td>6</td>\n",
       "      <td>AS6</td>\n",
       "      <td>Z</td>\n",
       "      <td>12.1</td>\n",
       "      <td>8.7</td>\n",
       "      <td>10.6</td>\n",
       "      <td>27</td>\n",
       "      <td>244</td>\n",
       "    </tr>\n",
       "  </tbody>\n",
       "</table>\n",
       "</div>"
      ],
      "text/plain": [
       "   MODELYEAR   MAKE       MODEL VEHICLECLASS  ENGINESIZE  CYLINDERS  \\\n",
       "0       2014  ACURA         ILX      COMPACT         2.0          4   \n",
       "1       2014  ACURA         ILX      COMPACT         2.4          4   \n",
       "2       2014  ACURA  ILX HYBRID      COMPACT         1.5          4   \n",
       "3       2014  ACURA     MDX 4WD  SUV - SMALL         3.5          6   \n",
       "4       2014  ACURA     RDX AWD  SUV - SMALL         3.5          6   \n",
       "\n",
       "  TRANSMISSION FUELTYPE  FUELCONSUMPTION_CITY  FUELCONSUMPTION_HWY  \\\n",
       "0          AS5        Z                   9.9                  6.7   \n",
       "1           M6        Z                  11.2                  7.7   \n",
       "2          AV7        Z                   6.0                  5.8   \n",
       "3          AS6        Z                  12.7                  9.1   \n",
       "4          AS6        Z                  12.1                  8.7   \n",
       "\n",
       "   FUELCONSUMPTION_COMB  FUELCONSUMPTION_COMB_MPG  CO2EMISSIONS  \n",
       "0                   8.5                        33           196  \n",
       "1                   9.6                        29           221  \n",
       "2                   5.9                        48           136  \n",
       "3                  11.1                        25           255  \n",
       "4                  10.6                        27           244  "
      ]
     },
     "execution_count": 3,
     "metadata": {},
     "output_type": "execute_result"
    }
   ],
   "source": [
    "df.head()"
   ]
  },
  {
   "cell_type": "markdown",
   "id": "8706720d",
   "metadata": {},
   "source": [
    "__Dataset consists of following type information about a vehicle__\n",
    "\n",
    "__MODELYEAR__ e.g. 2014\n",
    "\n",
    "__MAKE___ e.g. Acura\n",
    "\n",
    "__MODEL____ e.g. ILX\n",
    "\n",
    "__VEHICLE CLASS__ e.g. SUV\n",
    "\n",
    "__ENGINE SIZE__ e.g. 4.7\n",
    "\n",
    "__CYLINDERS__ e.g 6\n",
    "\n",
    "__TRANSMISSION__ e.g. A6\n",
    "\n",
    "__FUEL CONSUMPTION in CITY(L/100 km)__ e.g. 9.9\n",
    "\n",
    "__FUEL CONSUMPTION in HWY (L/100 km)__ e.g. 8.9\n",
    "\n",
    "__FUEL CONSUMPTION COMB (L/100 km)__ e.g. 9.2\n",
    "\n",
    "__CO2 EMISSIONS (g/km)__ e.g. 182 --> low --> 0\n",
    "\n"
   ]
  },
  {
   "cell_type": "code",
   "execution_count": 4,
   "id": "f02c121e",
   "metadata": {},
   "outputs": [
    {
     "data": {
      "text/html": [
       "<div>\n",
       "<style scoped>\n",
       "    .dataframe tbody tr th:only-of-type {\n",
       "        vertical-align: middle;\n",
       "    }\n",
       "\n",
       "    .dataframe tbody tr th {\n",
       "        vertical-align: top;\n",
       "    }\n",
       "\n",
       "    .dataframe thead th {\n",
       "        text-align: right;\n",
       "    }\n",
       "</style>\n",
       "<table border=\"1\" class=\"dataframe\">\n",
       "  <thead>\n",
       "    <tr style=\"text-align: right;\">\n",
       "      <th></th>\n",
       "      <th>MODELYEAR</th>\n",
       "      <th>ENGINESIZE</th>\n",
       "      <th>CYLINDERS</th>\n",
       "      <th>FUELCONSUMPTION_CITY</th>\n",
       "      <th>FUELCONSUMPTION_HWY</th>\n",
       "      <th>FUELCONSUMPTION_COMB</th>\n",
       "      <th>FUELCONSUMPTION_COMB_MPG</th>\n",
       "      <th>CO2EMISSIONS</th>\n",
       "    </tr>\n",
       "  </thead>\n",
       "  <tbody>\n",
       "    <tr>\n",
       "      <th>count</th>\n",
       "      <td>1067.0</td>\n",
       "      <td>1067.000000</td>\n",
       "      <td>1067.000000</td>\n",
       "      <td>1067.000000</td>\n",
       "      <td>1067.000000</td>\n",
       "      <td>1067.000000</td>\n",
       "      <td>1067.000000</td>\n",
       "      <td>1067.000000</td>\n",
       "    </tr>\n",
       "    <tr>\n",
       "      <th>mean</th>\n",
       "      <td>2014.0</td>\n",
       "      <td>3.346298</td>\n",
       "      <td>5.794752</td>\n",
       "      <td>13.296532</td>\n",
       "      <td>9.474602</td>\n",
       "      <td>11.580881</td>\n",
       "      <td>26.441425</td>\n",
       "      <td>256.228679</td>\n",
       "    </tr>\n",
       "    <tr>\n",
       "      <th>std</th>\n",
       "      <td>0.0</td>\n",
       "      <td>1.415895</td>\n",
       "      <td>1.797447</td>\n",
       "      <td>4.101253</td>\n",
       "      <td>2.794510</td>\n",
       "      <td>3.485595</td>\n",
       "      <td>7.468702</td>\n",
       "      <td>63.372304</td>\n",
       "    </tr>\n",
       "    <tr>\n",
       "      <th>min</th>\n",
       "      <td>2014.0</td>\n",
       "      <td>1.000000</td>\n",
       "      <td>3.000000</td>\n",
       "      <td>4.600000</td>\n",
       "      <td>4.900000</td>\n",
       "      <td>4.700000</td>\n",
       "      <td>11.000000</td>\n",
       "      <td>108.000000</td>\n",
       "    </tr>\n",
       "    <tr>\n",
       "      <th>25%</th>\n",
       "      <td>2014.0</td>\n",
       "      <td>2.000000</td>\n",
       "      <td>4.000000</td>\n",
       "      <td>10.250000</td>\n",
       "      <td>7.500000</td>\n",
       "      <td>9.000000</td>\n",
       "      <td>21.000000</td>\n",
       "      <td>207.000000</td>\n",
       "    </tr>\n",
       "    <tr>\n",
       "      <th>50%</th>\n",
       "      <td>2014.0</td>\n",
       "      <td>3.400000</td>\n",
       "      <td>6.000000</td>\n",
       "      <td>12.600000</td>\n",
       "      <td>8.800000</td>\n",
       "      <td>10.900000</td>\n",
       "      <td>26.000000</td>\n",
       "      <td>251.000000</td>\n",
       "    </tr>\n",
       "    <tr>\n",
       "      <th>75%</th>\n",
       "      <td>2014.0</td>\n",
       "      <td>4.300000</td>\n",
       "      <td>8.000000</td>\n",
       "      <td>15.550000</td>\n",
       "      <td>10.850000</td>\n",
       "      <td>13.350000</td>\n",
       "      <td>31.000000</td>\n",
       "      <td>294.000000</td>\n",
       "    </tr>\n",
       "    <tr>\n",
       "      <th>max</th>\n",
       "      <td>2014.0</td>\n",
       "      <td>8.400000</td>\n",
       "      <td>12.000000</td>\n",
       "      <td>30.200000</td>\n",
       "      <td>20.500000</td>\n",
       "      <td>25.800000</td>\n",
       "      <td>60.000000</td>\n",
       "      <td>488.000000</td>\n",
       "    </tr>\n",
       "  </tbody>\n",
       "</table>\n",
       "</div>"
      ],
      "text/plain": [
       "       MODELYEAR   ENGINESIZE    CYLINDERS  FUELCONSUMPTION_CITY  \\\n",
       "count     1067.0  1067.000000  1067.000000           1067.000000   \n",
       "mean      2014.0     3.346298     5.794752             13.296532   \n",
       "std          0.0     1.415895     1.797447              4.101253   \n",
       "min       2014.0     1.000000     3.000000              4.600000   \n",
       "25%       2014.0     2.000000     4.000000             10.250000   \n",
       "50%       2014.0     3.400000     6.000000             12.600000   \n",
       "75%       2014.0     4.300000     8.000000             15.550000   \n",
       "max       2014.0     8.400000    12.000000             30.200000   \n",
       "\n",
       "       FUELCONSUMPTION_HWY  FUELCONSUMPTION_COMB  FUELCONSUMPTION_COMB_MPG  \\\n",
       "count          1067.000000           1067.000000               1067.000000   \n",
       "mean              9.474602             11.580881                 26.441425   \n",
       "std               2.794510              3.485595                  7.468702   \n",
       "min               4.900000              4.700000                 11.000000   \n",
       "25%               7.500000              9.000000                 21.000000   \n",
       "50%               8.800000             10.900000                 26.000000   \n",
       "75%              10.850000             13.350000                 31.000000   \n",
       "max              20.500000             25.800000                 60.000000   \n",
       "\n",
       "       CO2EMISSIONS  \n",
       "count   1067.000000  \n",
       "mean     256.228679  \n",
       "std       63.372304  \n",
       "min      108.000000  \n",
       "25%      207.000000  \n",
       "50%      251.000000  \n",
       "75%      294.000000  \n",
       "max      488.000000  "
      ]
     },
     "execution_count": 4,
     "metadata": {},
     "output_type": "execute_result"
    }
   ],
   "source": [
    "#Let's explore df a bit more.\n",
    "\n",
    "df.describe()"
   ]
  },
  {
   "cell_type": "markdown",
   "id": "85517264",
   "metadata": {},
   "source": [
    "Here, we are trying to establish relation between other variables and C02 Emission. Let's consider some features that might have effect on CO2 emission."
   ]
  },
  {
   "cell_type": "code",
   "execution_count": 5,
   "id": "c0ad0f3b",
   "metadata": {},
   "outputs": [
    {
     "data": {
      "text/html": [
       "<div>\n",
       "<style scoped>\n",
       "    .dataframe tbody tr th:only-of-type {\n",
       "        vertical-align: middle;\n",
       "    }\n",
       "\n",
       "    .dataframe tbody tr th {\n",
       "        vertical-align: top;\n",
       "    }\n",
       "\n",
       "    .dataframe thead th {\n",
       "        text-align: right;\n",
       "    }\n",
       "</style>\n",
       "<table border=\"1\" class=\"dataframe\">\n",
       "  <thead>\n",
       "    <tr style=\"text-align: right;\">\n",
       "      <th></th>\n",
       "      <th>ENGINESIZE</th>\n",
       "      <th>CYLINDERS</th>\n",
       "      <th>FUELCONSUMPTION_COMB</th>\n",
       "      <th>CO2EMISSIONS</th>\n",
       "    </tr>\n",
       "  </thead>\n",
       "  <tbody>\n",
       "    <tr>\n",
       "      <th>0</th>\n",
       "      <td>2.0</td>\n",
       "      <td>4</td>\n",
       "      <td>8.5</td>\n",
       "      <td>196</td>\n",
       "    </tr>\n",
       "    <tr>\n",
       "      <th>1</th>\n",
       "      <td>2.4</td>\n",
       "      <td>4</td>\n",
       "      <td>9.6</td>\n",
       "      <td>221</td>\n",
       "    </tr>\n",
       "    <tr>\n",
       "      <th>2</th>\n",
       "      <td>1.5</td>\n",
       "      <td>4</td>\n",
       "      <td>5.9</td>\n",
       "      <td>136</td>\n",
       "    </tr>\n",
       "    <tr>\n",
       "      <th>3</th>\n",
       "      <td>3.5</td>\n",
       "      <td>6</td>\n",
       "      <td>11.1</td>\n",
       "      <td>255</td>\n",
       "    </tr>\n",
       "    <tr>\n",
       "      <th>4</th>\n",
       "      <td>3.5</td>\n",
       "      <td>6</td>\n",
       "      <td>10.6</td>\n",
       "      <td>244</td>\n",
       "    </tr>\n",
       "    <tr>\n",
       "      <th>5</th>\n",
       "      <td>3.5</td>\n",
       "      <td>6</td>\n",
       "      <td>10.0</td>\n",
       "      <td>230</td>\n",
       "    </tr>\n",
       "    <tr>\n",
       "      <th>6</th>\n",
       "      <td>3.5</td>\n",
       "      <td>6</td>\n",
       "      <td>10.1</td>\n",
       "      <td>232</td>\n",
       "    </tr>\n",
       "    <tr>\n",
       "      <th>7</th>\n",
       "      <td>3.7</td>\n",
       "      <td>6</td>\n",
       "      <td>11.1</td>\n",
       "      <td>255</td>\n",
       "    </tr>\n",
       "    <tr>\n",
       "      <th>8</th>\n",
       "      <td>3.7</td>\n",
       "      <td>6</td>\n",
       "      <td>11.6</td>\n",
       "      <td>267</td>\n",
       "    </tr>\n",
       "    <tr>\n",
       "      <th>9</th>\n",
       "      <td>2.4</td>\n",
       "      <td>4</td>\n",
       "      <td>9.2</td>\n",
       "      <td>212</td>\n",
       "    </tr>\n",
       "  </tbody>\n",
       "</table>\n",
       "</div>"
      ],
      "text/plain": [
       "   ENGINESIZE  CYLINDERS  FUELCONSUMPTION_COMB  CO2EMISSIONS\n",
       "0         2.0          4                   8.5           196\n",
       "1         2.4          4                   9.6           221\n",
       "2         1.5          4                   5.9           136\n",
       "3         3.5          6                  11.1           255\n",
       "4         3.5          6                  10.6           244\n",
       "5         3.5          6                  10.0           230\n",
       "6         3.5          6                  10.1           232\n",
       "7         3.7          6                  11.1           255\n",
       "8         3.7          6                  11.6           267\n",
       "9         2.4          4                   9.2           212"
      ]
     },
     "execution_count": 5,
     "metadata": {},
     "output_type": "execute_result"
    }
   ],
   "source": [
    "cdf = df[['ENGINESIZE', 'CYLINDERS', 'FUELCONSUMPTION_COMB', 'CO2EMISSIONS']]\n",
    "cdf.head(10)"
   ]
  },
  {
   "cell_type": "markdown",
   "id": "c28d53c9",
   "metadata": {},
   "source": [
    "Visualizing cdf"
   ]
  },
  {
   "cell_type": "code",
   "execution_count": 6,
   "id": "85a335b6",
   "metadata": {},
   "outputs": [
    {
     "data": {
      "image/png": "[encoded data removed]",
      "text/plain": [
       "<Figure size 720x576 with 4 Axes>"
      ]
     },
     "metadata": {
      "needs_background": "light"
     },
     "output_type": "display_data"
    }
   ],
   "source": [
    "vis = cdf[['CYLINDERS','ENGINESIZE', 'CO2EMISSIONS', 'FUELCONSUMPTION_COMB']]\n",
    "vis.hist()\n",
    "plt.gcf().set_size_inches(10, 8)\n",
    "plt.show()"
   ]
  },
  {
   "cell_type": "markdown",
   "id": "73aa758a",
   "metadata": {},
   "source": [
    "Now, Let's generate a scatterplot of each data with CO2 Emission."
   ]
  },
  {
   "cell_type": "code",
   "execution_count": 7,
   "id": "29e1e8bc",
   "metadata": {},
   "outputs": [
    {
     "data": {
      "image/png": "[encoded data removed]",
      "text/plain": [
       "<Figure size 432x288 with 1 Axes>"
      ]
     },
     "metadata": {
      "needs_background": "light"
     },
     "output_type": "display_data"
    }
   ],
   "source": [
    "plt.scatter(cdf['CYLINDERS'], cdf['CO2EMISSIONS'])\n",
    "plt.xlabel('Cylinder')\n",
    "plt.ylabel('CO2 Emission')\n",
    "plt.show()"
   ]
  },
  {
   "cell_type": "code",
   "execution_count": 8,
   "id": "21b462b2",
   "metadata": {
    "scrolled": true
   },
   "outputs": [
    {
     "data": {
      "image/png": "[encoded data removed]",
      "text/plain": [
       "<Figure size 432x288 with 1 Axes>"
      ]
     },
     "metadata": {
      "needs_background": "light"
     },
     "output_type": "display_data"
    }
   ],
   "source": [
    "plt.scatter(cdf['ENGINESIZE'], cdf['CO2EMISSIONS'])\n",
    "plt.xlabel('Enginesize')\n",
    "plt.ylabel('CO2 Emission')\n",
    "plt.show()"
   ]
  },
  {
   "cell_type": "code",
   "execution_count": 9,
   "id": "aacb9042",
   "metadata": {},
   "outputs": [
    {
     "data": {
      "image/png": "[encoded data removed]",
      "text/plain": [
       "<Figure size 432x288 with 1 Axes>"
      ]
     },
     "metadata": {
      "needs_background": "light"
     },
     "output_type": "display_data"
    }
   ],
   "source": [
    "plt.scatter(cdf['FUELCONSUMPTION_COMB'], cdf['CO2EMISSIONS'])\n",
    "plt.xlabel('Fuel Consumption')\n",
    "plt.ylabel('CO2 Emission')\n",
    "plt.show()"
   ]
  },
  {
   "cell_type": "markdown",
   "id": "64f5acc9",
   "metadata": {},
   "source": [
    "Observing the plots, we can assume that Engine Size and CO2 Emission are related. So, For Now, we take Engine Size into consideration.\n",
    "i.e. Our __x__ is __ENGINESIZE__ and our __y__ is __CO2EMISSIONS__."
   ]
  },
  {
   "cell_type": "markdown",
   "id": "4ec11b9e",
   "metadata": {},
   "source": [
    "Start by creating Train and Test dataset.\n",
    "\n",
    "For this, we randomly select how much data we will be using to train our regression model.\n",
    "\n",
    "We use __np.random.rand()__"
   ]
  },
  {
   "cell_type": "code",
   "execution_count": 10,
   "id": "0bc15a73",
   "metadata": {},
   "outputs": [],
   "source": [
    "tt = np.random.rand(len(cdf)) < 0.8\n",
    "train_set = cdf[tt]\n",
    "test_set = cdf[~tt]"
   ]
  },
  {
   "cell_type": "markdown",
   "id": "9f0c6b01",
   "metadata": {},
   "source": [
    "Testing and training data is divided and now it's time for training.\n",
    "\n",
    "For training, import linear_model module (used for linear regression) from scikit-learn library"
   ]
  },
  {
   "cell_type": "code",
   "execution_count": 11,
   "id": "6914a6c7",
   "metadata": {},
   "outputs": [],
   "source": [
    "from sklearn import linear_model"
   ]
  },
  {
   "cell_type": "code",
   "execution_count": 12,
   "id": "392a7e5d",
   "metadata": {},
   "outputs": [],
   "source": [
    "reg_model = linear_model.LinearRegression()\n",
    "train_x = np.asanyarray(train_set[['ENGINESIZE']])\n",
    "train_y = np.asanyarray(train_set[['CO2EMISSIONS']])"
   ]
  },
  {
   "cell_type": "markdown",
   "id": "9b729beb",
   "metadata": {},
   "source": [
    "__reg_model__ is the model where we will fit our training data.\n",
    "\n",
    "train_x is the training input variable.\n",
    "train_y is the training output variable."
   ]
  },
  {
   "cell_type": "code",
   "execution_count": 13,
   "id": "b945979f",
   "metadata": {},
   "outputs": [
    {
     "data": {
      "text/plain": [
       "LinearRegression()"
      ]
     },
     "execution_count": 13,
     "metadata": {},
     "output_type": "execute_result"
    }
   ],
   "source": [
    "reg_model.fit(train_x, train_y)"
   ]
  },
  {
   "cell_type": "markdown",
   "id": "f6c5a977",
   "metadata": {},
   "source": [
    "As our model is trained, we can now look at coefficient and intercept."
   ]
  },
  {
   "cell_type": "code",
   "execution_count": 14,
   "id": "d38055c4",
   "metadata": {},
   "outputs": [
    {
     "name": "stdout",
     "output_type": "stream",
     "text": [
      "Coefficients :  39.43052897195037\n",
      "Intercept :  125.21127436337949\n"
     ]
    }
   ],
   "source": [
    "c1 = reg_model.coef_[0][0]\n",
    "i1 = reg_model.intercept_[0]\n",
    "print('Coefficients : ',c1 )\n",
    "print('Intercept : ', i1)"
   ]
  },
  {
   "cell_type": "markdown",
   "id": "848eda13",
   "metadata": {},
   "source": [
    "Creating a scatterplot of ENGINESIZE and CO2EMISSIONS along with the fit line over it."
   ]
  },
  {
   "cell_type": "code",
   "execution_count": 15,
   "id": "0b88690a",
   "metadata": {},
   "outputs": [
    {
     "data": {
      "image/png": "[encoded data removed]",
      "text/plain": [
       "<Figure size 432x288 with 1 Axes>"
      ]
     },
     "metadata": {
      "needs_background": "light"
     },
     "output_type": "display_data"
    }
   ],
   "source": [
    "plt.scatter(train_set['ENGINESIZE'], train_set['CO2EMISSIONS'])\n",
    "plt.plot(train_x, ((c1*train_x)+ i1), 'r')\n",
    "plt.xlabel('Engine Size')\n",
    "plt.ylabel('Emissions')\n",
    "plt.show()"
   ]
  },
  {
   "cell_type": "markdown",
   "id": "54b8f24a",
   "metadata": {},
   "source": [
    "Model is trained.\n",
    "\n",
    "Next part is Model Evaluation."
   ]
  },
  {
   "cell_type": "code",
   "execution_count": 16,
   "id": "fc06f68a",
   "metadata": {},
   "outputs": [],
   "source": [
    "from sklearn.metrics import r2_score\n",
    "\n",
    "test_x = np.asanyarray(test_set[['ENGINESIZE']])\n",
    "test_y = np.asanyarray(test_set[['CO2EMISSIONS']])\n",
    "predicted_y = reg_model.predict(test_x)"
   ]
  },
  {
   "cell_type": "code",
   "execution_count": 17,
   "id": "494cee2d",
   "metadata": {},
   "outputs": [
    {
     "name": "stdout",
     "output_type": "stream",
     "text": [
      "Mean absolute error (engine size): 23.53\n",
      "Residual sum of squares (MSE) (engine size): 969.57\n",
      "R2-score (engine size): 0.75\n"
     ]
    }
   ],
   "source": [
    "print(\"Mean absolute error (engine size): %.2f\" % np.mean(np.absolute(predicted_y - test_y)))\n",
    "print(\"Residual sum of squares (MSE) (engine size): %.2f\" % np.mean((predicted_y - test_y) ** 2))\n",
    "print(\"R2-score (engine size): %.2f\" % r2_score(test_y , predicted_y) )"
   ]
  },
  {
   "cell_type": "markdown",
   "id": "e84d48bd",
   "metadata": {},
   "source": [
    "Lets see what the evaluation metrics are if we trained a regression model using the __FUELCONSUMPTION_COMB__ feature."
   ]
  },
  {
   "cell_type": "code",
   "execution_count": 18,
   "id": "f66bae60",
   "metadata": {},
   "outputs": [],
   "source": [
    "reg_model_fc = linear_model.LinearRegression()\n",
    "train_x_fc = np.asanyarray(train_set[['FUELCONSUMPTION_COMB']])\n",
    "train_y_fc = np.asanyarray(train_set[['CO2EMISSIONS']])"
   ]
  },
  {
   "cell_type": "markdown",
   "id": "d9690195",
   "metadata": {},
   "source": [
    "__reg_model_fc__ is the model where we will fit our training data.\n",
    "\n",
    "train_x_fc is the training input variable.\n",
    "train_y_fc is the training output variable."
   ]
  },
  {
   "cell_type": "code",
   "execution_count": 19,
   "id": "58ca921e",
   "metadata": {},
   "outputs": [
    {
     "data": {
      "text/plain": [
       "LinearRegression()"
      ]
     },
     "execution_count": 19,
     "metadata": {},
     "output_type": "execute_result"
    }
   ],
   "source": [
    "reg_model_fc.fit(train_x_fc, train_y_fc)"
   ]
  },
  {
   "cell_type": "markdown",
   "id": "40d6ddda",
   "metadata": {},
   "source": [
    "As our model is trained, we can now look at coefficient and intercept."
   ]
  },
  {
   "cell_type": "code",
   "execution_count": 20,
   "id": "568321b6",
   "metadata": {},
   "outputs": [
    {
     "name": "stdout",
     "output_type": "stream",
     "text": [
      "Coefficients :  16.655590667711085\n",
      "Intercept :  64.35011196758634\n"
     ]
    }
   ],
   "source": [
    "c2 = reg_model_fc.coef_[0][0]\n",
    "i2 = reg_model_fc.intercept_[0]\n",
    "print('Coefficients : ',c2 )\n",
    "print('Intercept : ', i2)"
   ]
  },
  {
   "cell_type": "markdown",
   "id": "b6016af9",
   "metadata": {},
   "source": [
    "Creating a scatterplot of FUELCONSUMPTION_COMB and CO2EMISSIONS along with the fit line over it."
   ]
  },
  {
   "cell_type": "code",
   "execution_count": 21,
   "id": "886569ea",
   "metadata": {},
   "outputs": [
    {
     "data": {
      "image/png": "[encoded data removed]",
      "text/plain": [
       "<Figure size 432x288 with 1 Axes>"
      ]
     },
     "metadata": {
      "needs_background": "light"
     },
     "output_type": "display_data"
    }
   ],
   "source": [
    "plt.scatter(train_set['FUELCONSUMPTION_COMB'], train_set['CO2EMISSIONS'])\n",
    "plt.plot(train_x, ((c2*train_x)+ i2), 'r')\n",
    "plt.xlabel('Fuel Consumption')\n",
    "plt.ylabel('Emissions')\n",
    "plt.show()"
   ]
  },
  {
   "cell_type": "markdown",
   "id": "9a0dc6c1",
   "metadata": {},
   "source": [
    "Model is trained.\n",
    "\n",
    "Next part is Model Evaluation."
   ]
  },
  {
   "cell_type": "code",
   "execution_count": 22,
   "id": "79898b39",
   "metadata": {},
   "outputs": [],
   "source": [
    "from sklearn.metrics import r2_score\n",
    "\n",
    "test_x_fc = np.asanyarray(test_set[['FUELCONSUMPTION_COMB']])\n",
    "test_y_fc = np.asanyarray(test_set[['CO2EMISSIONS']])\n",
    "predicted_y_fc = reg_model.predict(test_x_fc)"
   ]
  },
  {
   "cell_type": "code",
   "execution_count": 23,
   "id": "11c885ac",
   "metadata": {},
   "outputs": [
    {
     "name": "stdout",
     "output_type": "stream",
     "text": [
      "Mean absolute error (fuel consumption): 331.21\n",
      "Residual sum of squares (MSE) (fuel consumption): 118704.81\n",
      "R2-score (fuel consumption): -29.81\n"
     ]
    }
   ],
   "source": [
    "print(\"Mean absolute error (fuel consumption): %.2f\" % np.mean(np.absolute(predicted_y_fc - test_y_fc)))\n",
    "print(\"Residual sum of squares (MSE) (fuel consumption): %.2f\" % np.mean((predicted_y_fc - test_y_fc) ** 2))\n",
    "print(\"R2-score (fuel consumption): %.2f\" % r2_score(test_y_fc , predicted_y_fc) )"
   ]
  },
  {
   "cell_type": "markdown",
   "id": "646971fa",
   "metadata": {},
   "source": [
    "Lets see what the evaluation metrics are if we trained a regression model using the __CYLINDERS__ feature."
   ]
  },
  {
   "cell_type": "code",
   "execution_count": 24,
   "id": "0e6da986",
   "metadata": {},
   "outputs": [],
   "source": [
    "reg_model_c = linear_model.LinearRegression()\n",
    "train_x_c = np.asanyarray(train_set[['CYLINDERS']])\n",
    "train_y_c = np.asanyarray(train_set[['CO2EMISSIONS']])"
   ]
  },
  {
   "cell_type": "markdown",
   "id": "443c89e4",
   "metadata": {},
   "source": [
    "__reg_model_c__ is the model where we will fit our training data.\n",
    "\n",
    "train_x_c is the training input variable.\n",
    "train_y_c is the training output variable."
   ]
  },
  {
   "cell_type": "code",
   "execution_count": 25,
   "id": "0836efe4",
   "metadata": {},
   "outputs": [
    {
     "data": {
      "text/plain": [
       "LinearRegression()"
      ]
     },
     "execution_count": 25,
     "metadata": {},
     "output_type": "execute_result"
    }
   ],
   "source": [
    "reg_model_c.fit(train_x_c, train_y_c)"
   ]
  },
  {
   "cell_type": "markdown",
   "id": "6faeea79",
   "metadata": {},
   "source": [
    "As our model is trained, we can now look at coefficient and intercept."
   ]
  },
  {
   "cell_type": "code",
   "execution_count": 26,
   "id": "00e27781",
   "metadata": {},
   "outputs": [
    {
     "name": "stdout",
     "output_type": "stream",
     "text": [
      "Coefficients :  30.009153027701483\n",
      "Intercept :  83.03279652606764\n"
     ]
    }
   ],
   "source": [
    "c3 = reg_model_c.coef_[0][0]\n",
    "i3 = reg_model_c.intercept_[0]\n",
    "print('Coefficients : ',c3 )\n",
    "print('Intercept : ', i3)"
   ]
  },
  {
   "cell_type": "markdown",
   "id": "1bd91e8b",
   "metadata": {},
   "source": [
    "Creating a scatterplot of CYLINDERS and CO2EMISSIONS along with the fit line over it."
   ]
  },
  {
   "cell_type": "code",
   "execution_count": 27,
   "id": "3652d283",
   "metadata": {},
   "outputs": [
    {
     "data": {
      "image/png": "[encoded data removed]",
      "text/plain": [
       "<Figure size 432x288 with 1 Axes>"
      ]
     },
     "metadata": {
      "needs_background": "light"
     },
     "output_type": "display_data"
    }
   ],
   "source": [
    "plt.scatter(train_set['CYLINDERS'], train_set['CO2EMISSIONS'])\n",
    "plt.plot(train_x, ((c3*train_x)+ i3), 'r')\n",
    "plt.xlabel('Cylinders')\n",
    "plt.ylabel('Emissions')\n",
    "plt.show()"
   ]
  },
  {
   "cell_type": "markdown",
   "id": "8c650706",
   "metadata": {},
   "source": [
    "Model is trained.\n",
    "\n",
    "Next part is Model Evaluation."
   ]
  },
  {
   "cell_type": "code",
   "execution_count": 28,
   "id": "b6152a20",
   "metadata": {},
   "outputs": [],
   "source": [
    "from sklearn.metrics import r2_score\n",
    "\n",
    "test_x_c = np.asanyarray(test_set[['CYLINDERS']])\n",
    "test_y_c = np.asanyarray(test_set[['CO2EMISSIONS']])\n",
    "predicted_y_c = reg_model.predict(test_x_c)"
   ]
  },
  {
   "cell_type": "code",
   "execution_count": 29,
   "id": "7e9d47e5",
   "metadata": {
    "scrolled": true
   },
   "outputs": [
    {
     "name": "stdout",
     "output_type": "stream",
     "text": [
      "Mean absolute error (cylinders): 100.21\n",
      "Residual sum of squares (MSE)(cylinders): 11372.51\n",
      "R2-score (cylinders): -1.95\n"
     ]
    }
   ],
   "source": [
    "print(\"Mean absolute error (cylinders): %.2f\" % np.mean(np.absolute(predicted_y_c - test_y_c)))\n",
    "print(\"Residual sum of squares (MSE)(cylinders): %.2f\" % np.mean((predicted_y_c - test_y_c) ** 2))\n",
    "print(\"R2-score (cylinders): %.2f\" % r2_score(test_y_c , predicted_y_c) )"
   ]
  },
  {
   "cell_type": "markdown",
   "id": "6ed73445",
   "metadata": {},
   "source": [
    "We can now observe the evaluation metrics while using different features and select the best one."
   ]
  }
 ],
 "metadata": {
  "kernelspec": {
   "display_name": "Python 3 (ipykernel)",
   "language": "python",
   "name": "python3"
  },
  "language_info": {
   "codemirror_mode": {
    "name": "ipython",
    "version": 3
   },
   "file_extension": ".py",
   "mimetype": "text/x-python",
   "name": "python",
   "nbconvert_exporter": "python",
   "pygments_lexer": "ipython3",
   "version": "3.9.12"
  }
 },
 "nbformat": 4,
 "nbformat_minor": 5
}
